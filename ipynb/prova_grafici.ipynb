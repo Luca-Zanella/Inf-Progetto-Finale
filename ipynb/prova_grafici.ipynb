{
 "metadata": {
  "language_info": {
   "codemirror_mode": {
    "name": "ipython",
    "version": 3
   },
   "file_extension": ".py",
   "mimetype": "text/x-python",
   "name": "python",
   "nbconvert_exporter": "python",
   "pygments_lexer": "ipython3",
   "version": "3.9.1"
  },
  "orig_nbformat": 2,
  "kernelspec": {
   "name": "python391jvsc74a57bd06b2186e92e5ccf417916dae32a12ace57b536e5d87ebf6bec9f55d3d305f6e91",
   "display_name": "Python 3.9.1 64-bit ('geo_env': conda)"
  }
 },
 "nbformat": 4,
 "nbformat_minor": 2,
 "cells": [
  {
   "cell_type": "code",
   "execution_count": 8,
   "metadata": {},
   "outputs": [],
   "source": [
    "import pyodbc as py\n",
    "import pandas as pd\n",
    "\n",
    "server = \"213.140.22.237\\SQLEXPRESS\"\n",
    "database = \"zanella.luca\"\n",
    "username = \"zanella.luca\"\n",
    "password = \"xxx123##\"\n",
    "conn = py.connect('DRIVER={SQL Server};SERVER='+server+';DATABASE='+database+';UID='+username+';PWD='+ password) \n",
    "cursor = conn.cursor()"
   ]
  },
  {
   "cell_type": "code",
   "execution_count": 9,
   "metadata": {},
   "outputs": [
    {
     "output_type": "execute_result",
     "data": {
      "text/plain": [
       "   area  num_vacc\n",
       "0   ABR        40\n",
       "1   BAS        26\n",
       "2   CAL        88\n",
       "3   CAM        51\n",
       "4   EMR       130\n",
       "5   FVG        45\n",
       "6   LAZ       138\n",
       "7   LIG       133\n",
       "8   LOM       111\n",
       "9   MAR        49\n",
       "10  MOL         5\n",
       "11  PAB        33\n",
       "12  PAT        15\n",
       "13  PIE       161\n",
       "14  PUG       362\n",
       "15  SAR        76\n",
       "16  SIC       165\n",
       "17  TOS       151\n",
       "18  UMB        40\n",
       "19  VDA         7\n",
       "20  VEN       165"
      ],
      "text/html": "<div>\n<style scoped>\n    .dataframe tbody tr th:only-of-type {\n        vertical-align: middle;\n    }\n\n    .dataframe tbody tr th {\n        vertical-align: top;\n    }\n\n    .dataframe thead th {\n        text-align: right;\n    }\n</style>\n<table border=\"1\" class=\"dataframe\">\n  <thead>\n    <tr style=\"text-align: right;\">\n      <th></th>\n      <th>area</th>\n      <th>num_vacc</th>\n    </tr>\n  </thead>\n  <tbody>\n    <tr>\n      <th>0</th>\n      <td>ABR</td>\n      <td>40</td>\n    </tr>\n    <tr>\n      <th>1</th>\n      <td>BAS</td>\n      <td>26</td>\n    </tr>\n    <tr>\n      <th>2</th>\n      <td>CAL</td>\n      <td>88</td>\n    </tr>\n    <tr>\n      <th>3</th>\n      <td>CAM</td>\n      <td>51</td>\n    </tr>\n    <tr>\n      <th>4</th>\n      <td>EMR</td>\n      <td>130</td>\n    </tr>\n    <tr>\n      <th>5</th>\n      <td>FVG</td>\n      <td>45</td>\n    </tr>\n    <tr>\n      <th>6</th>\n      <td>LAZ</td>\n      <td>138</td>\n    </tr>\n    <tr>\n      <th>7</th>\n      <td>LIG</td>\n      <td>133</td>\n    </tr>\n    <tr>\n      <th>8</th>\n      <td>LOM</td>\n      <td>111</td>\n    </tr>\n    <tr>\n      <th>9</th>\n      <td>MAR</td>\n      <td>49</td>\n    </tr>\n    <tr>\n      <th>10</th>\n      <td>MOL</td>\n      <td>5</td>\n    </tr>\n    <tr>\n      <th>11</th>\n      <td>PAB</td>\n      <td>33</td>\n    </tr>\n    <tr>\n      <th>12</th>\n      <td>PAT</td>\n      <td>15</td>\n    </tr>\n    <tr>\n      <th>13</th>\n      <td>PIE</td>\n      <td>161</td>\n    </tr>\n    <tr>\n      <th>14</th>\n      <td>PUG</td>\n      <td>362</td>\n    </tr>\n    <tr>\n      <th>15</th>\n      <td>SAR</td>\n      <td>76</td>\n    </tr>\n    <tr>\n      <th>16</th>\n      <td>SIC</td>\n      <td>165</td>\n    </tr>\n    <tr>\n      <th>17</th>\n      <td>TOS</td>\n      <td>151</td>\n    </tr>\n    <tr>\n      <th>18</th>\n      <td>UMB</td>\n      <td>40</td>\n    </tr>\n    <tr>\n      <th>19</th>\n      <td>VDA</td>\n      <td>7</td>\n    </tr>\n    <tr>\n      <th>20</th>\n      <td>VEN</td>\n      <td>165</td>\n    </tr>\n  </tbody>\n</table>\n</div>"
     },
     "metadata": {},
     "execution_count": 9
    }
   ],
   "source": [
    "query_graph = \"SELECT * FROM dbo.ProvapuntiSomministrazioneVaccini\"\n",
    "df_graph = pd.read_sql(query_graph,conn)\n",
    "\n",
    "df_graph = df_graph.groupby(\"area\").count()[\"Column_1\"].reset_index(name=\"num_vacc\")\n",
    "df_graph"
   ]
  },
  {
   "cell_type": "code",
   "execution_count": null,
   "metadata": {},
   "outputs": [],
   "source": []
  }
 ]
}