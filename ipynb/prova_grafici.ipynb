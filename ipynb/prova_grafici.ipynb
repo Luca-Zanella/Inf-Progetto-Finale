{
 "metadata": {
  "language_info": {
   "codemirror_mode": {
    "name": "ipython",
    "version": 3
   },
   "file_extension": ".py",
   "mimetype": "text/x-python",
   "name": "python",
   "nbconvert_exporter": "python",
   "pygments_lexer": "ipython3",
   "version": "3.9.2"
  },
  "orig_nbformat": 2,
  "kernelspec": {
   "name": "python392jvsc74a57bd06b2186e92e5ccf417916dae32a12ace57b536e5d87ebf6bec9f55d3d305f6e91",
   "display_name": "Python 3.9.2 64-bit ('geo_env': conda)"
  }
 },
 "nbformat": 4,
 "nbformat_minor": 2,
 "cells": [
  {
   "cell_type": "code",
   "execution_count": 2,
   "metadata": {},
   "outputs": [],
   "source": [
    "import pyodbc as py\n",
    "import pandas as pd\n",
    "\n",
    "server = \"213.140.22.237\\SQLEXPRESS\"\n",
    "database = \"zanella.luca\"\n",
    "username = \"zanella.luca\"\n",
    "password = \"xxx123##\"\n",
    "conn = py.connect('DRIVER={SQL Server};SERVER='+server+';DATABASE='+database+';UID='+username+';PWD='+ password) \n",
    "cursor = conn.cursor()"
   ]
  },
  {
   "cell_type": "code",
   "execution_count": 3,
   "metadata": {},
   "outputs": [
    {
     "output_type": "execute_result",
     "data": {
      "text/plain": [
       "   area  num_vacc\n",
       "0   ABR        40\n",
       "1   BAS        26\n",
       "2   CAL        88\n",
       "3   CAM        51\n",
       "4   EMR       130\n",
       "5   FVG        45\n",
       "6   LAZ       138\n",
       "7   LIG       133\n",
       "8   LOM       111\n",
       "9   MAR        49\n",
       "10  MOL         5\n",
       "11  PAB        33\n",
       "12  PAT        15\n",
       "13  PIE       161\n",
       "14  PUG       362\n",
       "15  SAR        76\n",
       "16  SIC       165\n",
       "17  TOS       151\n",
       "18  UMB        40\n",
       "19  VDA         7\n",
       "20  VEN       165"
      ],
      "text/html": "<div>\n<style scoped>\n    .dataframe tbody tr th:only-of-type {\n        vertical-align: middle;\n    }\n\n    .dataframe tbody tr th {\n        vertical-align: top;\n    }\n\n    .dataframe thead th {\n        text-align: right;\n    }\n</style>\n<table border=\"1\" class=\"dataframe\">\n  <thead>\n    <tr style=\"text-align: right;\">\n      <th></th>\n      <th>area</th>\n      <th>num_vacc</th>\n    </tr>\n  </thead>\n  <tbody>\n    <tr>\n      <th>0</th>\n      <td>ABR</td>\n      <td>40</td>\n    </tr>\n    <tr>\n      <th>1</th>\n      <td>BAS</td>\n      <td>26</td>\n    </tr>\n    <tr>\n      <th>2</th>\n      <td>CAL</td>\n      <td>88</td>\n    </tr>\n    <tr>\n      <th>3</th>\n      <td>CAM</td>\n      <td>51</td>\n    </tr>\n    <tr>\n      <th>4</th>\n      <td>EMR</td>\n      <td>130</td>\n    </tr>\n    <tr>\n      <th>5</th>\n      <td>FVG</td>\n      <td>45</td>\n    </tr>\n    <tr>\n      <th>6</th>\n      <td>LAZ</td>\n      <td>138</td>\n    </tr>\n    <tr>\n      <th>7</th>\n      <td>LIG</td>\n      <td>133</td>\n    </tr>\n    <tr>\n      <th>8</th>\n      <td>LOM</td>\n      <td>111</td>\n    </tr>\n    <tr>\n      <th>9</th>\n      <td>MAR</td>\n      <td>49</td>\n    </tr>\n    <tr>\n      <th>10</th>\n      <td>MOL</td>\n      <td>5</td>\n    </tr>\n    <tr>\n      <th>11</th>\n      <td>PAB</td>\n      <td>33</td>\n    </tr>\n    <tr>\n      <th>12</th>\n      <td>PAT</td>\n      <td>15</td>\n    </tr>\n    <tr>\n      <th>13</th>\n      <td>PIE</td>\n      <td>161</td>\n    </tr>\n    <tr>\n      <th>14</th>\n      <td>PUG</td>\n      <td>362</td>\n    </tr>\n    <tr>\n      <th>15</th>\n      <td>SAR</td>\n      <td>76</td>\n    </tr>\n    <tr>\n      <th>16</th>\n      <td>SIC</td>\n      <td>165</td>\n    </tr>\n    <tr>\n      <th>17</th>\n      <td>TOS</td>\n      <td>151</td>\n    </tr>\n    <tr>\n      <th>18</th>\n      <td>UMB</td>\n      <td>40</td>\n    </tr>\n    <tr>\n      <th>19</th>\n      <td>VDA</td>\n      <td>7</td>\n    </tr>\n    <tr>\n      <th>20</th>\n      <td>VEN</td>\n      <td>165</td>\n    </tr>\n  </tbody>\n</table>\n</div>"
     },
     "metadata": {},
     "execution_count": 3
    }
   ],
   "source": [
    "query_graph = \"SELECT * FROM dbo.ProvapuntiSomministrazioneVaccini\"\n",
    "df_graph = pd.read_sql(query_graph,conn)\n",
    "\n",
    "df_graph = df_graph.groupby(\"area\").count()[\"Column_1\"].reset_index(name=\"num_vacc\")\n",
    "df_graph"
   ]
  },
  {
   "cell_type": "code",
   "execution_count": 4,
   "metadata": {},
   "outputs": [
    {
     "output_type": "execute_result",
     "data": {
      "text/plain": [
       "      data_somministrazione                fornitore area fascia_anagrafica  \\\n",
       "0                2020-12-27          Pfizer/BioNTech  ABR             20-29   \n",
       "1                2020-12-27          Pfizer/BioNTech  ABR             30-39   \n",
       "2                2020-12-27          Pfizer/BioNTech  ABR             40-49   \n",
       "3                2020-12-27          Pfizer/BioNTech  ABR             50-59   \n",
       "4                2020-12-27          Pfizer/BioNTech  ABR             60-69   \n",
       "...                     ...                      ...  ...               ...   \n",
       "55159            2021-05-21  Vaxzevria (AstraZeneca)  VEN             50-59   \n",
       "55160            2021-05-21  Vaxzevria (AstraZeneca)  VEN             60-69   \n",
       "55161            2021-05-21  Vaxzevria (AstraZeneca)  VEN             70-79   \n",
       "55162            2021-05-21  Vaxzevria (AstraZeneca)  VEN             80-89   \n",
       "55163            2021-05-21  Vaxzevria (AstraZeneca)  VEN               90+   \n",
       "\n",
       "       sesso_maschile  sesso_femminile  \\\n",
       "0                   1                0   \n",
       "1                   1                3   \n",
       "2                   1                6   \n",
       "3                   4                5   \n",
       "4                  10                4   \n",
       "...               ...              ...   \n",
       "55159             127              115   \n",
       "55160            1514             1357   \n",
       "55161             207              188   \n",
       "55162               4                6   \n",
       "55163               0                1   \n",
       "\n",
       "       categoria_operatori_sanitari_sociosanitari  \\\n",
       "0                                               1   \n",
       "1                                               4   \n",
       "2                                               7   \n",
       "3                                               9   \n",
       "4                                              13   \n",
       "...                                           ...   \n",
       "55159                                           0   \n",
       "55160                                           3   \n",
       "55161                                           0   \n",
       "55162                                           0   \n",
       "55163                                           0   \n",
       "\n",
       "       categoria_personale_non_sanitario  categoria_ospiti_rsa  \\\n",
       "0                                      0                     0   \n",
       "1                                      0                     0   \n",
       "2                                      0                     0   \n",
       "3                                      0                     0   \n",
       "4                                      1                     0   \n",
       "...                                  ...                   ...   \n",
       "55159                                 78                     0   \n",
       "55160                                 66                     0   \n",
       "55161                                 46                     0   \n",
       "55162                                  1                     0   \n",
       "55163                                  0                     0   \n",
       "\n",
       "       categoria_60_69  ...  categoria_forze_armate  \\\n",
       "0                    0  ...                       0   \n",
       "1                    0  ...                       0   \n",
       "2                    0  ...                       0   \n",
       "3                    0  ...                       0   \n",
       "4                    0  ...                       0   \n",
       "...                ...  ...                     ...   \n",
       "55159                0  ...                      30   \n",
       "55160             2499  ...                       0   \n",
       "55161                0  ...                       0   \n",
       "55162                0  ...                       0   \n",
       "55163                0  ...                       0   \n",
       "\n",
       "       categoria_personale_scolastico  categoria_soggetti_fragili  \\\n",
       "0                                   0                           0   \n",
       "1                                   0                           0   \n",
       "2                                   0                           0   \n",
       "3                                   0                           0   \n",
       "4                                   0                           0   \n",
       "...                               ...                         ...   \n",
       "55159                             109                           4   \n",
       "55160                              88                           7   \n",
       "55161                               4                           4   \n",
       "55162                               0                           0   \n",
       "55163                               0                           0   \n",
       "\n",
       "       categoria_altro  prima_dose  seconda_dose  codice_NUTS1  codice_NUTS2  \\\n",
       "0                    0           1             0           ITF          ITF1   \n",
       "1                    0           4             0           ITF          ITF1   \n",
       "2                    0           7             0           ITF          ITF1   \n",
       "3                    0           9             0           ITF          ITF1   \n",
       "4                    0          14             0           ITF          ITF1   \n",
       "...                ...         ...           ...           ...           ...   \n",
       "55159               21          27           215           ITH          ITH3   \n",
       "55160              208        2751           120           ITH          ITH3   \n",
       "55161                0         305            90           ITH          ITH3   \n",
       "55162                0           8             2           ITH          ITH3   \n",
       "55163                0           0             1           ITH          ITH3   \n",
       "\n",
       "      codice_regione_ISTAT nome_area  \n",
       "0                       13   Abruzzo  \n",
       "1                       13   Abruzzo  \n",
       "2                       13   Abruzzo  \n",
       "3                       13   Abruzzo  \n",
       "4                       13   Abruzzo  \n",
       "...                    ...       ...  \n",
       "55159                    5    Veneto  \n",
       "55160                    5    Veneto  \n",
       "55161                    5    Veneto  \n",
       "55162                    5    Veneto  \n",
       "55163                    5    Veneto  \n",
       "\n",
       "[55164 rows x 22 columns]"
      ],
      "text/html": "<div>\n<style scoped>\n    .dataframe tbody tr th:only-of-type {\n        vertical-align: middle;\n    }\n\n    .dataframe tbody tr th {\n        vertical-align: top;\n    }\n\n    .dataframe thead th {\n        text-align: right;\n    }\n</style>\n<table border=\"1\" class=\"dataframe\">\n  <thead>\n    <tr style=\"text-align: right;\">\n      <th></th>\n      <th>data_somministrazione</th>\n      <th>fornitore</th>\n      <th>area</th>\n      <th>fascia_anagrafica</th>\n      <th>sesso_maschile</th>\n      <th>sesso_femminile</th>\n      <th>categoria_operatori_sanitari_sociosanitari</th>\n      <th>categoria_personale_non_sanitario</th>\n      <th>categoria_ospiti_rsa</th>\n      <th>categoria_60_69</th>\n      <th>...</th>\n      <th>categoria_forze_armate</th>\n      <th>categoria_personale_scolastico</th>\n      <th>categoria_soggetti_fragili</th>\n      <th>categoria_altro</th>\n      <th>prima_dose</th>\n      <th>seconda_dose</th>\n      <th>codice_NUTS1</th>\n      <th>codice_NUTS2</th>\n      <th>codice_regione_ISTAT</th>\n      <th>nome_area</th>\n    </tr>\n  </thead>\n  <tbody>\n    <tr>\n      <th>0</th>\n      <td>2020-12-27</td>\n      <td>Pfizer/BioNTech</td>\n      <td>ABR</td>\n      <td>20-29</td>\n      <td>1</td>\n      <td>0</td>\n      <td>1</td>\n      <td>0</td>\n      <td>0</td>\n      <td>0</td>\n      <td>...</td>\n      <td>0</td>\n      <td>0</td>\n      <td>0</td>\n      <td>0</td>\n      <td>1</td>\n      <td>0</td>\n      <td>ITF</td>\n      <td>ITF1</td>\n      <td>13</td>\n      <td>Abruzzo</td>\n    </tr>\n    <tr>\n      <th>1</th>\n      <td>2020-12-27</td>\n      <td>Pfizer/BioNTech</td>\n      <td>ABR</td>\n      <td>30-39</td>\n      <td>1</td>\n      <td>3</td>\n      <td>4</td>\n      <td>0</td>\n      <td>0</td>\n      <td>0</td>\n      <td>...</td>\n      <td>0</td>\n      <td>0</td>\n      <td>0</td>\n      <td>0</td>\n      <td>4</td>\n      <td>0</td>\n      <td>ITF</td>\n      <td>ITF1</td>\n      <td>13</td>\n      <td>Abruzzo</td>\n    </tr>\n    <tr>\n      <th>2</th>\n      <td>2020-12-27</td>\n      <td>Pfizer/BioNTech</td>\n      <td>ABR</td>\n      <td>40-49</td>\n      <td>1</td>\n      <td>6</td>\n      <td>7</td>\n      <td>0</td>\n      <td>0</td>\n      <td>0</td>\n      <td>...</td>\n      <td>0</td>\n      <td>0</td>\n      <td>0</td>\n      <td>0</td>\n      <td>7</td>\n      <td>0</td>\n      <td>ITF</td>\n      <td>ITF1</td>\n      <td>13</td>\n      <td>Abruzzo</td>\n    </tr>\n    <tr>\n      <th>3</th>\n      <td>2020-12-27</td>\n      <td>Pfizer/BioNTech</td>\n      <td>ABR</td>\n      <td>50-59</td>\n      <td>4</td>\n      <td>5</td>\n      <td>9</td>\n      <td>0</td>\n      <td>0</td>\n      <td>0</td>\n      <td>...</td>\n      <td>0</td>\n      <td>0</td>\n      <td>0</td>\n      <td>0</td>\n      <td>9</td>\n      <td>0</td>\n      <td>ITF</td>\n      <td>ITF1</td>\n      <td>13</td>\n      <td>Abruzzo</td>\n    </tr>\n    <tr>\n      <th>4</th>\n      <td>2020-12-27</td>\n      <td>Pfizer/BioNTech</td>\n      <td>ABR</td>\n      <td>60-69</td>\n      <td>10</td>\n      <td>4</td>\n      <td>13</td>\n      <td>1</td>\n      <td>0</td>\n      <td>0</td>\n      <td>...</td>\n      <td>0</td>\n      <td>0</td>\n      <td>0</td>\n      <td>0</td>\n      <td>14</td>\n      <td>0</td>\n      <td>ITF</td>\n      <td>ITF1</td>\n      <td>13</td>\n      <td>Abruzzo</td>\n    </tr>\n    <tr>\n      <th>...</th>\n      <td>...</td>\n      <td>...</td>\n      <td>...</td>\n      <td>...</td>\n      <td>...</td>\n      <td>...</td>\n      <td>...</td>\n      <td>...</td>\n      <td>...</td>\n      <td>...</td>\n      <td>...</td>\n      <td>...</td>\n      <td>...</td>\n      <td>...</td>\n      <td>...</td>\n      <td>...</td>\n      <td>...</td>\n      <td>...</td>\n      <td>...</td>\n      <td>...</td>\n      <td>...</td>\n    </tr>\n    <tr>\n      <th>55159</th>\n      <td>2021-05-21</td>\n      <td>Vaxzevria (AstraZeneca)</td>\n      <td>VEN</td>\n      <td>50-59</td>\n      <td>127</td>\n      <td>115</td>\n      <td>0</td>\n      <td>78</td>\n      <td>0</td>\n      <td>0</td>\n      <td>...</td>\n      <td>30</td>\n      <td>109</td>\n      <td>4</td>\n      <td>21</td>\n      <td>27</td>\n      <td>215</td>\n      <td>ITH</td>\n      <td>ITH3</td>\n      <td>5</td>\n      <td>Veneto</td>\n    </tr>\n    <tr>\n      <th>55160</th>\n      <td>2021-05-21</td>\n      <td>Vaxzevria (AstraZeneca)</td>\n      <td>VEN</td>\n      <td>60-69</td>\n      <td>1514</td>\n      <td>1357</td>\n      <td>3</td>\n      <td>66</td>\n      <td>0</td>\n      <td>2499</td>\n      <td>...</td>\n      <td>0</td>\n      <td>88</td>\n      <td>7</td>\n      <td>208</td>\n      <td>2751</td>\n      <td>120</td>\n      <td>ITH</td>\n      <td>ITH3</td>\n      <td>5</td>\n      <td>Veneto</td>\n    </tr>\n    <tr>\n      <th>55161</th>\n      <td>2021-05-21</td>\n      <td>Vaxzevria (AstraZeneca)</td>\n      <td>VEN</td>\n      <td>70-79</td>\n      <td>207</td>\n      <td>188</td>\n      <td>0</td>\n      <td>46</td>\n      <td>0</td>\n      <td>0</td>\n      <td>...</td>\n      <td>0</td>\n      <td>4</td>\n      <td>4</td>\n      <td>0</td>\n      <td>305</td>\n      <td>90</td>\n      <td>ITH</td>\n      <td>ITH3</td>\n      <td>5</td>\n      <td>Veneto</td>\n    </tr>\n    <tr>\n      <th>55162</th>\n      <td>2021-05-21</td>\n      <td>Vaxzevria (AstraZeneca)</td>\n      <td>VEN</td>\n      <td>80-89</td>\n      <td>4</td>\n      <td>6</td>\n      <td>0</td>\n      <td>1</td>\n      <td>0</td>\n      <td>0</td>\n      <td>...</td>\n      <td>0</td>\n      <td>0</td>\n      <td>0</td>\n      <td>0</td>\n      <td>8</td>\n      <td>2</td>\n      <td>ITH</td>\n      <td>ITH3</td>\n      <td>5</td>\n      <td>Veneto</td>\n    </tr>\n    <tr>\n      <th>55163</th>\n      <td>2021-05-21</td>\n      <td>Vaxzevria (AstraZeneca)</td>\n      <td>VEN</td>\n      <td>90+</td>\n      <td>0</td>\n      <td>1</td>\n      <td>0</td>\n      <td>0</td>\n      <td>0</td>\n      <td>0</td>\n      <td>...</td>\n      <td>0</td>\n      <td>0</td>\n      <td>0</td>\n      <td>0</td>\n      <td>0</td>\n      <td>1</td>\n      <td>ITH</td>\n      <td>ITH3</td>\n      <td>5</td>\n      <td>Veneto</td>\n    </tr>\n  </tbody>\n</table>\n<p>55164 rows × 22 columns</p>\n</div>"
     },
     "metadata": {},
     "execution_count": 4
    }
   ],
   "source": [
    "somm_vacc = pd.read_csv(\"https://raw.githubusercontent.com/italia/covid19-opendata-vaccini/master/dati/somministrazioni-vaccini-latest.csv\")\n",
    "somm_vacc"
   ]
  },
  {
   "cell_type": "code",
   "execution_count": 6,
   "metadata": {},
   "outputs": [
    {
     "output_type": "execute_result",
     "data": {
      "text/plain": [
       "   area  sesso_maschile  sesso_femminile\n",
       "0   ABR          300299           374540\n",
       "1   BAS          134648           158247\n",
       "2   CAL          424155           457428\n",
       "3   CAM         1295655          1488014\n",
       "4   EMR          987161          1302845\n",
       "5   FVG          269505           353105\n",
       "6   LAZ         1280668          1605588\n",
       "7   LIG          369451           476999\n",
       "8   LOM         2232929          2960023\n",
       "9   MAR          344547           444475\n",
       "10  MOL           75569            92157\n",
       "11  PAB          123721           148402\n",
       "12  PAT          114081           147727\n",
       "13  PIE          948854          1266498\n",
       "14  PUG          901885          1132319\n",
       "15  SAR          337237           422882\n",
       "16  SIC         1021908          1142559\n",
       "17  TOS          783128          1053882\n",
       "18  UMB          191912           257068\n",
       "19  VDA           29227            34739\n",
       "20  VEN         1077840          1405977"
      ],
      "text/html": "<div>\n<style scoped>\n    .dataframe tbody tr th:only-of-type {\n        vertical-align: middle;\n    }\n\n    .dataframe tbody tr th {\n        vertical-align: top;\n    }\n\n    .dataframe thead th {\n        text-align: right;\n    }\n</style>\n<table border=\"1\" class=\"dataframe\">\n  <thead>\n    <tr style=\"text-align: right;\">\n      <th></th>\n      <th>area</th>\n      <th>sesso_maschile</th>\n      <th>sesso_femminile</th>\n    </tr>\n  </thead>\n  <tbody>\n    <tr>\n      <th>0</th>\n      <td>ABR</td>\n      <td>300299</td>\n      <td>374540</td>\n    </tr>\n    <tr>\n      <th>1</th>\n      <td>BAS</td>\n      <td>134648</td>\n      <td>158247</td>\n    </tr>\n    <tr>\n      <th>2</th>\n      <td>CAL</td>\n      <td>424155</td>\n      <td>457428</td>\n    </tr>\n    <tr>\n      <th>3</th>\n      <td>CAM</td>\n      <td>1295655</td>\n      <td>1488014</td>\n    </tr>\n    <tr>\n      <th>4</th>\n      <td>EMR</td>\n      <td>987161</td>\n      <td>1302845</td>\n    </tr>\n    <tr>\n      <th>5</th>\n      <td>FVG</td>\n      <td>269505</td>\n      <td>353105</td>\n    </tr>\n    <tr>\n      <th>6</th>\n      <td>LAZ</td>\n      <td>1280668</td>\n      <td>1605588</td>\n    </tr>\n    <tr>\n      <th>7</th>\n      <td>LIG</td>\n      <td>369451</td>\n      <td>476999</td>\n    </tr>\n    <tr>\n      <th>8</th>\n      <td>LOM</td>\n      <td>2232929</td>\n      <td>2960023</td>\n    </tr>\n    <tr>\n      <th>9</th>\n      <td>MAR</td>\n      <td>344547</td>\n      <td>444475</td>\n    </tr>\n    <tr>\n      <th>10</th>\n      <td>MOL</td>\n      <td>75569</td>\n      <td>92157</td>\n    </tr>\n    <tr>\n      <th>11</th>\n      <td>PAB</td>\n      <td>123721</td>\n      <td>148402</td>\n    </tr>\n    <tr>\n      <th>12</th>\n      <td>PAT</td>\n      <td>114081</td>\n      <td>147727</td>\n    </tr>\n    <tr>\n      <th>13</th>\n      <td>PIE</td>\n      <td>948854</td>\n      <td>1266498</td>\n    </tr>\n    <tr>\n      <th>14</th>\n      <td>PUG</td>\n      <td>901885</td>\n      <td>1132319</td>\n    </tr>\n    <tr>\n      <th>15</th>\n      <td>SAR</td>\n      <td>337237</td>\n      <td>422882</td>\n    </tr>\n    <tr>\n      <th>16</th>\n      <td>SIC</td>\n      <td>1021908</td>\n      <td>1142559</td>\n    </tr>\n    <tr>\n      <th>17</th>\n      <td>TOS</td>\n      <td>783128</td>\n      <td>1053882</td>\n    </tr>\n    <tr>\n      <th>18</th>\n      <td>UMB</td>\n      <td>191912</td>\n      <td>257068</td>\n    </tr>\n    <tr>\n      <th>19</th>\n      <td>VDA</td>\n      <td>29227</td>\n      <td>34739</td>\n    </tr>\n    <tr>\n      <th>20</th>\n      <td>VEN</td>\n      <td>1077840</td>\n      <td>1405977</td>\n    </tr>\n  </tbody>\n</table>\n</div>"
     },
     "metadata": {},
     "execution_count": 6
    }
   ],
   "source": [
    "df = somm_vacc.groupby(\"area\").sum()[['sesso_maschile','sesso_femminile']].reset_index()\n",
    "df"
   ]
  },
  {
   "cell_type": "code",
   "execution_count": 8,
   "metadata": {},
   "outputs": [
    {
     "output_type": "execute_result",
     "data": {
      "text/plain": [
       "29969854"
      ]
     },
     "metadata": {},
     "execution_count": 8
    }
   ],
   "source": [
    "somma_vaccinati = somm_vacc['sesso_maschile'].sum() + somm_vacc['sesso_femminile'].sum()\n",
    "somma_vaccinati"
   ]
  },
  {
   "cell_type": "code",
   "execution_count": null,
   "metadata": {},
   "outputs": [],
   "source": []
  }
 ]
}